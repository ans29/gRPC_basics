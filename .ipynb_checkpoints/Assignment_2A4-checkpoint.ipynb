{
 "cells": [
  {
   "cell_type": "markdown",
   "metadata": {},
   "source": [
    "# DISTRIBUTED SYSTEMS \n",
    "## ASSIGNMENT 2 (A) :    gRPC\n",
    "\n",
    "##### Q.4) Provide a service that evaluates expressions. The input form the client is an infix expression and the output is the result of the expression.\n"
   ]
  },
  {
   "cell_type": "markdown",
   "metadata": {},
   "source": [
    "\n",
    "## Theory\n",
    "gRPC service and the method request and response types are defined using \"protocol buffers\".\n",
    "\n",
    "### protocol buffers \n",
    " – a language-neutral, platform-neutral, extensible way of serializing structured data for use in communications protocols, data storage, and more\n",
    " \n",
    " – It allows user to define how user want the data to be structured once, then user can use special generated source code to easily write and read the structured data, to and from a variety of data streams and using a variety of languages.\n",
    " \n",
    " – You specify how you want the information you're serializing to be structured by defining protocol buffer message types in .proto files. \n",
    "\n",
    " – Each protocol buffer message is a small logical record of information, containing a series of name-value pairs. \n",
    " \n",
    "The message that would be exchanged between client and server will be expressions for evaluation and their results, therefore a message is defined like this:"
   ]
  },
  {
   "cell_type": "raw",
   "metadata": {},
   "source": [
    "syntax = \"proto3\";\n",
    "\n",
    "message Expr\n",
    "{\n",
    "\tstring str_exp = 1;\n",
    "\tint32 output = 2;\n",
    "}    \n",
    "service Evaluator\n",
    "{\n",
    "\trpc Eval(Expr) returns (Expr) {}\n",
    "}"
   ]
  },
  {
   "cell_type": "markdown",
   "metadata": {},
   "source": [
    "Each field in the message definition is assigned a unique number, to identify the fields in the message binary format.\n",
    "\n",
    "Now compilig the .proto file using grpc_tools with following command, (0 output = success, non-zero = error)"
   ]
  },
  {
   "cell_type": "code",
   "execution_count": 1,
   "metadata": {
    "scrolled": true
   },
   "outputs": [
    {
     "data": {
      "text/plain": [
       "0"
      ]
     },
     "execution_count": 1,
     "metadata": {},
     "output_type": "execute_result"
    }
   ],
   "source": [
    "import os\n",
    "os.system(\"python2 -m grpc_tools.protoc -I. --python_out=. --grpc_python_out=. evaluator.proto\")"
   ]
  },
  {
   "cell_type": "markdown",
   "metadata": {},
   "source": [
    "###### Output of compiling is :\n",
    "1.evaluator_pb2.py <br>\n",
    " – contains message classes, in our case it contains Expr class. <br> – str_exp and output variables can be accessed normally as Expr.str_exp and Expr.output.\n",
    "    \n",
    "    \n",
    "2.evaluator_pb2_grpc.py <br> – contains server and client classes <br>\n",
    " – evaluator_pb2_grpc.EvaluatorServicer for the server (Interface) <br>\n",
    " – evaluator_pb2_grpc.EvaluatorStub for the client\n",
    "    "
   ]
  },
  {
   "cell_type": "markdown",
   "metadata": {},
   "source": [
    "#### TASKS OF SERVER\n",
    "\n",
    "1. Extend the EvaluatorServicer interface.\n",
    "2. Define the RPC function call \"Eval\" mentioned in .proto file in EvaluatorServicer\n",
    "3. create a gRPC server instance\n",
    "4. use the generated function `add_EvaluatorServicer_to_server` to add the defined class to the server\n",
    "5. Start the server.\n",
    "\n",
    "let's start the server :"
   ]
  },
  {
   "cell_type": "markdown",
   "metadata": {},
   "source": [
    "#### TASK OF CLIENT\n",
    "1. open a gRPC channel\n",
    "2. create a stub using evaluator_pb2_grpc.EvaluatorStub\n",
    "3. create valid REQUEST message using evaluator_pb2.Expr\n",
    "4. send the REQ msg to the EVAL function declared in the stub and recieve the expected output.\n",
    "\n",
    "You can test the working of gRPC server by sending an infix expression to be solved by server through client.py in a new termial window.\n",
    "##### Running server now...\n",
    "(close this notebook to exit server)"
   ]
  },
  {
   "cell_type": "code",
   "execution_count": null,
   "metadata": {},
   "outputs": [],
   "source": [
    "os.system(\"python2 server.py\")"
   ]
  }
 ],
 "metadata": {
  "kernelspec": {
   "display_name": "Python 3",
   "language": "python",
   "name": "python3"
  },
  "language_info": {
   "codemirror_mode": {
    "name": "ipython",
    "version": 3
   },
   "file_extension": ".py",
   "mimetype": "text/x-python",
   "name": "python",
   "nbconvert_exporter": "python",
   "pygments_lexer": "ipython3",
   "version": "3.6.7"
  }
 },
 "nbformat": 4,
 "nbformat_minor": 2
}
